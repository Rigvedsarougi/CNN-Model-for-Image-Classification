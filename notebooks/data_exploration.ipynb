import matplotlib.pyplot as plt
import os
from PIL import Image

# Load and display a few images from the dataset
train_dir = "data/train/"
categories = os.listdir(train_dir)

fig, ax = plt.subplots(1, 5, figsize=(15, 5))
for i, category in enumerate(categories[:5]):
    img_path = os.path.join(train_dir, category, os.listdir(os.path.join(train_dir, category))[0])
    img = Image.open(img_path)
    ax[i].imshow(img)
    ax[i].set_title(category)
    ax[i].axis('off')
plt.show()
